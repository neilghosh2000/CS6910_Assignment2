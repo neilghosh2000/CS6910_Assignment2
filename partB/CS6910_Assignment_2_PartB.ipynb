{
 "cells": [
  {
   "cell_type": "code",
   "execution_count": null,
   "metadata": {},
   "outputs": [],
   "source": [
    "import math\n",
    "import numpy as np\n",
    "import matplotlib.pyplot as plt\n",
    "from sklearn.metrics import confusion_matrix\n",
    "\n",
    "import tensorflow as tf\n",
    "from tensorflow import keras\n",
    "from tensorflow.keras import  models, optimizers, layers, activations\n",
    "from tensorflow.keras.models import Model\n",
    "from tensorflow.keras.metrics import categorical_crossentropy\n",
    "from tensorflow.keras.preprocessing.image import ImageDataGenerator\n",
    "from tensorflow.keras.applications import InceptionV3, InceptionResNetV2, ResNet50, Xception\n",
    "\n",
    "import wandb\n",
    "from wandb.keras import WandbCallback\n",
    "\n",
    "physical_devices = tf.config.experimental.list_physical_devices('GPU')\n",
    "assert len(physical_devices) > 0, \"Not enough GPU hardware devices available\"\n",
    "config = tf.config.experimental.set_memory_growth(physical_devices[0], True)"
   ]
  },
  {
   "cell_type": "code",
   "execution_count": null,
   "metadata": {},
   "outputs": [],
   "source": [
    "default_parameters = dict(\n",
    "    data_aug = True,\n",
    "    pre_trained_model = 'InceptionResNetV2',\n",
    "    batch_size = 32,\n",
    "    final_dense = 32,\n",
    "    final_dropout = 0.2,\n",
    "    k_freeze_percent = 0.6, \n",
    "    batch_norm = True,\n",
    "    activation = \"relu\"\n",
    "    )"
   ]
  },
  {
   "cell_type": "code",
   "execution_count": null,
   "metadata": {},
   "outputs": [],
   "source": [
    "run = wandb.init(config= default_parameters,project=\"cs6910_Assignment2\", entity=\"arneshbose1\")\n",
    "config = wandb.config"
   ]
  },
  {
   "cell_type": "code",
   "execution_count": null,
   "metadata": {},
   "outputs": [],
   "source": [
    "image_size = (128,128)\n",
    "input_size = (128,128,3)\n",
    "batch_size = config.batch_size\n",
    "\n",
    "class_names = ['Amphibia', 'Animalia', 'Arachnida', 'Aves', 'Fungi',\n",
    "               'Insecta', 'Mammalia', 'Mollusca', 'Plantae', 'Reptilia']\n",
    "\n",
    "data_aug = config.data_aug\n",
    "\n",
    "if data_aug:\n",
    "    train_gen = ImageDataGenerator(rotation_range=45, width_shift_range=0.2, height_shift_range=0.2,\n",
    "                                 shear_range=0.2, zoom_range=0.2, horizontal_flip=True, fill_mode='reflect',\n",
    "                                   rescale=1./255, validation_split=0.1)\n",
    "else:\n",
    "    train_gen = ImageDataGenerator(rescale=1./255, validation_split=0.1)"
   ]
  },
  {
   "cell_type": "code",
   "execution_count": null,
   "metadata": {},
   "outputs": [],
   "source": [
    "train_ds = train_gen.flow_from_directory(\n",
    "    directory='nature_12K/inaturalist_12K/train/',\n",
    "    target_size=image_size,\n",
    "    color_mode=\"rgb\",\n",
    "    batch_size=batch_size,\n",
    "    class_mode=\"categorical\",\n",
    "    shuffle=True,\n",
    "    seed=42,\n",
    "    subset=\"training\")\n",
    "\n",
    "val_ds = train_gen.flow_from_directory(\n",
    "    directory='nature_12K/inaturalist_12K/train/',\n",
    "    target_size=image_size,\n",
    "    color_mode=\"rgb\",\n",
    "    batch_size=batch_size,\n",
    "    class_mode=\"categorical\",\n",
    "    shuffle=True,\n",
    "    seed=42,\n",
    "    subset=\"validation\")"
   ]
  },
  {
   "cell_type": "code",
   "execution_count": null,
   "metadata": {},
   "outputs": [],
   "source": [
    "plt.figure(figsize=(10, 10))\n",
    "images, labels = val_ds.next()\n",
    "for i in range(9):\n",
    "    ax = plt.subplot(3, 3, i + 1)\n",
    "    plt.imshow(images[i])\n",
    "    plt.title(class_names[np.where(labels[i] == 1)[0][0]])\n",
    "    plt.axis(\"off\")\n",
    "    \n",
    "plt.show()"
   ]
  },
  {
   "cell_type": "code",
   "execution_count": null,
   "metadata": {},
   "outputs": [],
   "source": [
    "def use_pretrained_model(pre_trained_model, batch_size, final_dense, final_dropout, k_freeze_percent, batch_norm, activation):\n",
    "    if pre_trained_model == 'InceptionV3':\n",
    "        model = InceptionV3(input_shape = input_size, include_top = False, weights = 'imagenet') # leaving out the last layer since we have only 10 classes\n",
    "        k = math.ceil(k_freeze_percent*311)\n",
    "    elif pre_trained_model == 'InceptionResNetV2':\n",
    "        model = InceptionResNetV2(input_shape = input_size, include_top = False, weights = 'imagenet')\n",
    "        k = math.ceil(k_freeze_percent*780)\n",
    "    elif pre_trained_model == 'ResNet50':\n",
    "        model = ResNet50(input_shape = input_size, include_top = False, weights = 'imagenet')\n",
    "        k = math.ceil(k_freeze_percent*175)\n",
    "    elif pre_trained_model == 'Xception':\n",
    "        model = Xception(input_shape = input_size, include_top = False, weights = 'imagenet')\n",
    "        k = math.ceil(k_freeze_percent*132)\n",
    "        \n",
    "    \n",
    "    i = 0\n",
    "    for layer in model.layers:\n",
    "        layer.trainable = False\n",
    "        i+=1\n",
    "        if(i==k):\n",
    "            break\n",
    "        \n",
    "    x = layers.Flatten()(model.output) # flattening the last layer to a single layer\n",
    "    \n",
    "    if activation == \"relu\":\n",
    "        x = layers.Dense(final_dense, layers.ReLU())(x)\n",
    "    elif act_fun == \"leaky_relu\":\n",
    "        x = layers.Dense(n_dense, layers.LeakyReLU(alpha=0.1))(x)\n",
    "\n",
    "    if batch_norm:\n",
    "        x = layers.BatchNormalization()(x)\n",
    "\n",
    "    x = layers.Dropout(final_dropout)(x) # adding a dropout\n",
    "    x = layers.Dense(10, tf.nn.softmax)(x) # final softmax function\n",
    "    \n",
    "    final_model = Model(model.input,x)\n",
    "    final_model.summary()\n",
    "    \n",
    "    return final_model"
   ]
  },
  {
   "cell_type": "code",
   "execution_count": null,
   "metadata": {},
   "outputs": [],
   "source": [
    "pre_trained_model = config.pre_trained_model\n",
    "batch_size = config.batch_size\n",
    "final_dense = config.final_dense\n",
    "final_dropout = config.final_dropout\n",
    "k_freeze_percent = config.k_freeze_percent\n",
    "batch_norm = config.batch_norm\n",
    "activation = config.activation"
   ]
  },
  {
   "cell_type": "code",
   "execution_count": null,
   "metadata": {},
   "outputs": [],
   "source": [
    "model = use_pretrained_model(pre_trained_model, batch_size, final_dense, final_dropout, k_freeze_percent, batch_norm, activation)\n",
    "model.compile(optimizer='adam', loss='categorical_crossentropy', metrics=['accuracy'])\n",
    "\n",
    "history = model.fit(train_ds, validation_data=val_ds, epochs=10, callbacks=[WandbCallback()])"
   ]
  },
  {
   "cell_type": "code",
   "execution_count": null,
   "metadata": {},
   "outputs": [],
   "source": []
  }
 ],
 "metadata": {
  "kernelspec": {
   "display_name": "Python 3",
   "language": "python",
   "name": "python3"
  },
  "language_info": {
   "codemirror_mode": {
    "name": "ipython",
    "version": 3
   },
   "file_extension": ".py",
   "mimetype": "text/x-python",
   "name": "python",
   "nbconvert_exporter": "python",
   "pygments_lexer": "ipython3",
   "version": "3.8.5"
  }
 },
 "nbformat": 4,
 "nbformat_minor": 4
}
